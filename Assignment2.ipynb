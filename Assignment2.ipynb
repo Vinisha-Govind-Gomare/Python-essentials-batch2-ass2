{
  "nbformat": 4,
  "nbformat_minor": 0,
  "metadata": {
    "colab": {
      "name": "Assignment2.ipynb",
      "provenance": []
    },
    "kernelspec": {
      "name": "python3",
      "display_name": "Python 3"
    }
  },
  "cells": [
    {
      "cell_type": "code",
      "metadata": {
        "colab": {
          "base_uri": "https://localhost:8080/"
        },
        "id": "3Ac2P96EAaLd",
        "outputId": "6e94229e-90bc-4680-e028-66b718bccc91"
      },
      "source": [
        "lst=[[1,2,3],[1.2],[],[],[],[1,2,3,4],[],[]]\r\n",
        "\r\n",
        "print(list(filter(lambda x: x, lst)))\r\n",
        "    "
      ],
      "execution_count": 24,
      "outputs": [
        {
          "output_type": "stream",
          "text": [
            "[[1, 2, 3], [1.2], [1, 2, 3, 4]]\n"
          ],
          "name": "stdout"
        }
      ]
    },
    {
      "cell_type": "code",
      "metadata": {
        "colab": {
          "base_uri": "https://localhost:8080/"
        },
        "id": "518APNGpNDvQ",
        "outputId": "7d9e1819-5089-4cef-f4ac-9c5a21073ece"
      },
      "source": [
        "text=input(\"Please enter words seperated by space:\")\r\n",
        "words=[word for word in text.split(\" \")]\r\n",
        "print(\" \".join(sorted(list(set(words)))))"
      ],
      "execution_count": 30,
      "outputs": [
        {
          "output_type": "stream",
          "text": [
            "Please enter words seperated by space:one to one\n",
            "one to\n"
          ],
          "name": "stdout"
        }
      ]
    },
    {
      "cell_type": "code",
      "metadata": {
        "colab": {
          "base_uri": "https://localhost:8080/"
        },
        "id": "z9WZQXpMRGWg",
        "outputId": "87b10dc2-9c9e-4f1f-bc6b-8c1db0fb09c4"
      },
      "source": [
        "string=input(\"Enter any string:\")\r\n",
        "c=input(\"Enetr the character to check frequency:\")\r\n",
        "count=0\r\n",
        "for i in string:\r\n",
        "    if i==c:\r\n",
        "      count+=1\r\n",
        "print(c,\"occurs\",count,\"time(s)\")      "
      ],
      "execution_count": 31,
      "outputs": [
        {
          "output_type": "stream",
          "text": [
            "Enter any string:bubbles\n",
            "Enetr the character to check frequency:b\n",
            "b occurs 3 time(s)\n"
          ],
          "name": "stdout"
        }
      ]
    }
  ]
}